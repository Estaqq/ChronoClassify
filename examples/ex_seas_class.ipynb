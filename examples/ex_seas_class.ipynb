{
 "cells": [
  {
   "cell_type": "code",
   "execution_count": 19,
   "metadata": {
    "_kg_hide-input": true,
    "_kg_hide-output": true
   },
   "outputs": [],
   "source": [
    "import numpy as np\n",
    "import pandas as pd\n",
    "from sklearn.preprocessing import StandardScaler\n",
    "from sklearn.metrics import roc_auc_score, mean_squared_error\n",
    "from sklearn.linear_model import LogisticRegression\n",
    "from sklearn.preprocessing import StandardScaler\n",
    "from sklearn.model_selection import  cross_validate\n",
    "import math\n",
    "\n",
    "import sys\n",
    "from pathlib import Path\n",
    "# Get the parent directory of the notebook\n",
    "parent_dir = str(Path().resolve().parent)\n",
    "# Add it to sys.path\n",
    "sys.path.append(parent_dir)\n",
    "from skl_seas_ens import SeasonalClassifier\n",
    "\n"
   ]
  },
  {
   "cell_type": "code",
   "execution_count": 20,
   "metadata": {},
   "outputs": [],
   "source": [
    "data = pd.read_csv('data/train.csv', index_col=0)\n",
    "\n",
    "#add lag data for cloud \n",
    "data['cloud_lag_2'] = data['cloud'].shift(2)\n",
    "data['cloud_step_2'] = data['cloud'].shift(-2)\n",
    "data['sunshine_lag_1'] = data['sunshine'].shift(1)\n",
    "data['sunshine_lag_2'] = data['sunshine'].shift(2)\n",
    "#backfill and forward fill\n",
    "data.bfill(inplace=True)\n",
    "data.ffill(inplace=True)\n",
    "scaler = StandardScaler()\n",
    "standard_scale_cols = ['pressure', 'mintemp', 'dewpoint',\n",
    "            'humidity', 'cloud', 'sunshine', 'cloud_lag_2',\n",
    "            'cloud_step_2', ]\n",
    "data[standard_scale_cols] = scaler.fit_transform(data[standard_scale_cols])\n",
    "\n",
    "\n",
    "\n"
   ]
  },
  {
   "cell_type": "code",
   "execution_count": 26,
   "metadata": {},
   "outputs": [
    {
     "name": "stderr",
     "output_type": "stream",
     "text": [
      "/home/max/anaconda3/envs/zalando/lib/python3.12/site-packages/sklearn/base.py:474: FutureWarning: `BaseEstimator._validate_data` is deprecated in 1.6 and will be removed in 1.7. Use `sklearn.utils.validation.validate_data` instead. This function becomes public and is part of the scikit-learn developer API.\n",
      "  warnings.warn(\n",
      "/home/max/anaconda3/envs/zalando/lib/python3.12/site-packages/sklearn/base.py:474: FutureWarning: `BaseEstimator._validate_data` is deprecated in 1.6 and will be removed in 1.7. Use `sklearn.utils.validation.validate_data` instead. This function becomes public and is part of the scikit-learn developer API.\n",
      "  warnings.warn(\n",
      "/home/max/anaconda3/envs/zalando/lib/python3.12/site-packages/sklearn/base.py:474: FutureWarning: `BaseEstimator._validate_data` is deprecated in 1.6 and will be removed in 1.7. Use `sklearn.utils.validation.validate_data` instead. This function becomes public and is part of the scikit-learn developer API.\n",
      "  warnings.warn(\n",
      "/home/max/anaconda3/envs/zalando/lib/python3.12/site-packages/sklearn/base.py:474: FutureWarning: `BaseEstimator._validate_data` is deprecated in 1.6 and will be removed in 1.7. Use `sklearn.utils.validation.validate_data` instead. This function becomes public and is part of the scikit-learn developer API.\n",
      "  warnings.warn(\n",
      "/home/max/anaconda3/envs/zalando/lib/python3.12/site-packages/sklearn/base.py:474: FutureWarning: `BaseEstimator._validate_data` is deprecated in 1.6 and will be removed in 1.7. Use `sklearn.utils.validation.validate_data` instead. This function becomes public and is part of the scikit-learn developer API.\n",
      "  warnings.warn(\n",
      "/home/max/anaconda3/envs/zalando/lib/python3.12/site-packages/sklearn/base.py:474: FutureWarning: `BaseEstimator._validate_data` is deprecated in 1.6 and will be removed in 1.7. Use `sklearn.utils.validation.validate_data` instead. This function becomes public and is part of the scikit-learn developer API.\n",
      "  warnings.warn(\n",
      "/home/max/anaconda3/envs/zalando/lib/python3.12/site-packages/sklearn/base.py:474: FutureWarning: `BaseEstimator._validate_data` is deprecated in 1.6 and will be removed in 1.7. Use `sklearn.utils.validation.validate_data` instead. This function becomes public and is part of the scikit-learn developer API.\n",
      "  warnings.warn(\n"
     ]
    },
    {
     "name": "stdout",
     "output_type": "stream",
     "text": [
      "Accuracy Seasonal Classifier:  86.71232876712327\n"
     ]
    },
    {
     "name": "stderr",
     "output_type": "stream",
     "text": [
      "/home/max/anaconda3/envs/zalando/lib/python3.12/site-packages/sklearn/base.py:474: FutureWarning: `BaseEstimator._validate_data` is deprecated in 1.6 and will be removed in 1.7. Use `sklearn.utils.validation.validate_data` instead. This function becomes public and is part of the scikit-learn developer API.\n",
      "  warnings.warn(\n",
      "/home/max/anaconda3/envs/zalando/lib/python3.12/site-packages/sklearn/base.py:474: FutureWarning: `BaseEstimator._validate_data` is deprecated in 1.6 and will be removed in 1.7. Use `sklearn.utils.validation.validate_data` instead. This function becomes public and is part of the scikit-learn developer API.\n",
      "  warnings.warn(\n",
      "/home/max/anaconda3/envs/zalando/lib/python3.12/site-packages/sklearn/base.py:474: FutureWarning: `BaseEstimator._validate_data` is deprecated in 1.6 and will be removed in 1.7. Use `sklearn.utils.validation.validate_data` instead. This function becomes public and is part of the scikit-learn developer API.\n",
      "  warnings.warn(\n"
     ]
    }
   ],
   "source": [
    "#Optimize Seasonal Classifier\n",
    "features = [\n",
    "            'day',\n",
    "            'pressure',\n",
    "            'mintemp', \n",
    "            'dewpoint',\n",
    "            'humidity',\n",
    "            'cloud', \n",
    "            'sunshine', \n",
    "            'cloud_lag_2',\n",
    "            'cloud_step_2',\n",
    "            'sunshine_lag_1',\n",
    "            'sunshine_lag_2',\n",
    "            ]\n",
    "X = data[features]\n",
    "y = data['rainfall']\n",
    "\n",
    "model = SeasonalClassifier(base_model_class= LogisticRegression, \n",
    "                           base_model_args=  {'max_iter': 100000, 'tol' : 1e-7, 'random_state' : 0},\n",
    "                           drop_time_column= True, time_column= 'day', data_is_periodic= True, padding= 135, n_windows= 40, col_names=X.columns)\n",
    "\n",
    "\n",
    "scoring = {'Accuracy': 'accuracy'}\n",
    "\n",
    "scores = cross_validate(model, X, y, cv=5,scoring=scoring)\n",
    "print(\"Accuracy Seasonal Classifier: \", scores['test_Accuracy'].mean()*100)\n",
    "\n",
    "\n",
    "\n",
    "\n"
   ]
  },
  {
   "cell_type": "code",
   "execution_count": 27,
   "metadata": {},
   "outputs": [
    {
     "name": "stdout",
     "output_type": "stream",
     "text": [
      "Accuracy Logistic Regression  86.57534246575341\n"
     ]
    }
   ],
   "source": [
    "#remove day from features\n",
    "features.remove('day')\n",
    "X = data[features]\n",
    "y = data['rainfall']\n",
    "\n",
    "model = LogisticRegression(max_iter=100000, tol =1e-7,random_state=0)\n",
    "scoring = {'Accuracy': 'accuracy'}\n",
    "scores = cross_validate(model, X, y, cv=5,scoring=scoring)\n",
    "print(\"Accuracy Logistic Regression \", scores['test_Accuracy'].mean()*100)\n"
   ]
  }
 ],
 "metadata": {
  "kaggle": {
   "accelerator": "none",
   "dataSources": [
    {
     "databundleVersionId": 6197974,
     "sourceId": 57094,
     "sourceType": "competition"
    }
   ],
   "dockerImageVersionId": 30527,
   "isGpuEnabled": false,
   "isInternetEnabled": false,
   "language": "python",
   "sourceType": "notebook"
  },
  "kernelspec": {
   "display_name": "zalando",
   "language": "python",
   "name": "python3"
  },
  "language_info": {
   "codemirror_mode": {
    "name": "ipython",
    "version": 3
   },
   "file_extension": ".py",
   "mimetype": "text/x-python",
   "name": "python",
   "nbconvert_exporter": "python",
   "pygments_lexer": "ipython3",
   "version": "3.12.8"
  }
 },
 "nbformat": 4,
 "nbformat_minor": 4
}
